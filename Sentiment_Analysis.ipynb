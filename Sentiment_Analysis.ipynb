{
 "cells": [
  {
   "cell_type": "code",
   "execution_count": 1,
   "metadata": {},
   "outputs": [],
   "source": [
    "import os"
   ]
  },
  {
   "cell_type": "code",
   "execution_count": 2,
   "metadata": {},
   "outputs": [
    {
     "data": {
      "text/plain": [
       "'/home/david/github/galvanize/post_grad/sentiment_analysis_imdbdata/train/pos'"
      ]
     },
     "execution_count": 2,
     "metadata": {},
     "output_type": "execute_result"
    }
   ],
   "source": [
    "path = os.getcwd() + 'data/train/pos'\n",
    "path"
   ]
  },
  {
   "cell_type": "code",
   "execution_count": 3,
   "metadata": {
    "scrolled": true
   },
   "outputs": [
    {
     "data": {
      "text/plain": [
       "'/home/david/github/galvanize/post_grad/sentiment_analysis_imdb'"
      ]
     },
     "execution_count": 3,
     "metadata": {},
     "output_type": "execute_result"
    }
   ],
   "source": [
    "os.getcwd()"
   ]
  },
  {
   "cell_type": "code",
   "execution_count": 4,
   "metadata": {},
   "outputs": [],
   "source": [
    "pos_list = []\n",
    "for root, dirs, files in os.walk('data/train/pos'):\n",
    "    for file in files:\n",
    "        if file.endswith('.txt'):\n",
    "            with open(os.path.join(root, file), 'r') as f:\n",
    "                text = f.read()\n",
    "                pos_list.append(text)"
   ]
  },
  {
   "cell_type": "code",
   "execution_count": 5,
   "metadata": {},
   "outputs": [
    {
     "data": {
      "text/plain": [
       "12500"
      ]
     },
     "execution_count": 5,
     "metadata": {},
     "output_type": "execute_result"
    }
   ],
   "source": [
    "len(pos_list)"
   ]
  },
  {
   "cell_type": "code",
   "execution_count": 6,
   "metadata": {},
   "outputs": [
    {
     "data": {
      "text/plain": [
       "\"I think that most of the folks who have posted comments on this movie don't understand how to watch a movie and/or have little sense of elegance. First, to assess a movie you need to understand the extent to which everything in the film works together. Modern sensibilities demand great drama. No, I don't mean great setting of characters and plots, but they seem to demand emotional trajectories that are greatly tragic or greatly comedic. This is a subtle movie. Its beauty lies in its subtlety (not to be confused with simplicity). Neither the story nor the characters are simple in this movie. It is a beautifully filmed movie that makes the most of combining sensuousness, politics, human weakness, venality...you name it. The world it's set in would be alien and not understood today...a world where if you have it you have to flaunt it NOW and LOUDLY, even if you only think you have it.<br /><br />Many people today don't understand that Victorian society wasn't really Victorian as people understand that term today.<br /><br />This movie helps set the record straight.\""
      ]
     },
     "execution_count": 6,
     "metadata": {},
     "output_type": "execute_result"
    }
   ],
   "source": [
    "pos_list[1]"
   ]
  },
  {
   "cell_type": "code",
   "execution_count": 7,
   "metadata": {},
   "outputs": [],
   "source": [
    "neg_list = []\n",
    "for root, dirs, files in os.walk('data/train/neg'):\n",
    "    for file in files:\n",
    "        if file.endswith('.txt'):\n",
    "            with open(os.path.join(root, file), 'r') as f:\n",
    "                text = f.read()\n",
    "                neg_list.append(text)"
   ]
  },
  {
   "cell_type": "code",
   "execution_count": 8,
   "metadata": {},
   "outputs": [
    {
     "name": "stdout",
     "output_type": "stream",
     "text": [
      "have posit tomorrow\n",
      "time positive tomorrow\n"
     ]
    }
   ],
   "source": [
    "from nltk.stem import PorterStemmer\n",
    "from nltk.tokenize import word_tokenize\n",
    "from nltk.stem import WordNetLemmatizer\n",
    "#import ssl\n",
    "#ssl._create_default_https_context = ssl._create_unverified_context\n",
    "#import nltk\n",
    "#nltk.download()\n",
    "\n",
    "lm = WordNetLemmatizer()\n",
    "ps = PorterStemmer()\n",
    "\n",
    "test_list = ['having positively tomorrows'\n",
    "             , 'being absolutely positively largest']\n",
    "\n",
    "def token_stem(sent):\n",
    "    sent = word_tokenize(sent)\n",
    "    lst = []\n",
    "    for x in sent:\n",
    "        lst.append(ps.stem(x))\n",
    "    return ' '.join(lst)\n",
    "\n",
    "def token_lem(sent):\n",
    "    sent = word_tokenize(sent)\n",
    "    lst = []\n",
    "    for x in sent:\n",
    "        lst.append(lm.lemmatize(x))\n",
    "    return ' '.join(lst)\n",
    "\n",
    "print(token_stem('having positives tomorrows'))\n",
    "print(token_lem('times positives tomorrows'))   "
   ]
  },
  {
   "cell_type": "code",
   "execution_count": 9,
   "metadata": {},
   "outputs": [
    {
     "data": {
      "text/plain": [
       "['have posit tomorrow', 'be absolut posit largest']"
      ]
     },
     "execution_count": 9,
     "metadata": {},
     "output_type": "execute_result"
    }
   ],
   "source": [
    "test_list = [token_stem(x) for x in test_list]\n",
    "test_list"
   ]
  },
  {
   "cell_type": "code",
   "execution_count": 10,
   "metadata": {},
   "outputs": [
    {
     "data": {
      "text/plain": [
       "['have posit tomorrow', 'be absolut posit largest']"
      ]
     },
     "execution_count": 10,
     "metadata": {},
     "output_type": "execute_result"
    }
   ],
   "source": [
    "test_list = [token_lem(x) for x in test_list]\n",
    "test_list"
   ]
  },
  {
   "cell_type": "code",
   "execution_count": 22,
   "metadata": {},
   "outputs": [
    {
     "data": {
      "text/plain": [
       "'having is bets'"
      ]
     },
     "execution_count": 22,
     "metadata": {},
     "output_type": "execute_result"
    }
   ],
   "source": [
    "import string\n",
    "s = \"having \\|is bet's\"\n",
    "s.translate(str.maketrans('', '', string.punctuation))"
   ]
  },
  {
   "cell_type": "code",
   "execution_count": null,
   "metadata": {},
   "outputs": [],
   "source": []
  },
  {
   "cell_type": "code",
   "execution_count": 20,
   "metadata": {},
   "outputs": [],
   "source": [
    "import re\n",
    "\n",
    "replace_no_space = re.compile(\"(\\.)|(\\;)|(\\:)|(\\!)|(\\')|(\\?)|(\\,)|(\\\")|(\\()|(\\))|(\\[)|(\\])|(\\d+)\")\n",
    "replace_with_space = re.compile(\"(<br\\s*/><br\\s*/>)|(\\-)|(\\/)\")\n",
    "\n",
    "def process_punc(list_in):\n",
    "    list_in = [replace_no_space.sub('', x.lower()) for x in list_in]\n",
    "    list_in = [replace_with_space.sub(' ', x) for x in list_in]\n",
    "    \n",
    "    return list_in"
   ]
  },
  {
   "cell_type": "code",
   "execution_count": 12,
   "metadata": {
    "scrolled": true
   },
   "outputs": [
    {
     "data": {
      "text/plain": [
       "'yes i call this a perfect movie not one boring second a fantastic cast of mostly little known actresses and actors a great array of characters who are all well defined and who all have understandable motives i could sympathize with perfect lighting crisp black and white photography a fitting soundtrack an intelligent and harmonious set design and a story that is engaging and works its one of those prime quality pictures on which all the pride of hollywood should rest the mark everyone should endeavor to reach barbara stanwyck is simply stunning there was nothing this actress couldnt do and she always went easy on the melodramatic side no hysterical outbursts with this lady   i always thought she was a better actress than screen goddesses like bette davis or joan crawford and this movie confirmed my opinion always as tough as nails and at the same time conveying true sentiments it is fair to add that she also got many good parts during her long career and this one is by far the least interesting the title fits this movie very well it is about desires human desires i think everyone can understand actually no one seems to be scheming in this movie all characters act on impulse everybody wants to be happy without hurting anybody else the sad fact that this more often than not leads to complications makes for the dramatic content into which i will not go here i liked what this movie has to say about youth about maturing and about the necessity to compromise the movie i associate most with this one is alfred hitchcocks shadow of a doubt it creates a similar atmosphere of idealized and at the same time caricatured small town america the story has a certain similarity with fritz langs considerably harsher movie clash by night made one year earlier where stanywck stars in a similar part i can also recommend it'"
      ]
     },
     "execution_count": 12,
     "metadata": {},
     "output_type": "execute_result"
    }
   ],
   "source": [
    "pos_clean = process_punc(pos_list)\n",
    "pos_clean[0]"
   ]
  },
  {
   "cell_type": "code",
   "execution_count": 13,
   "metadata": {},
   "outputs": [
    {
     "data": {
      "text/plain": [
       "'there are some movies you just know they are going to be bad from frame one even if you were totally oblivious of ed woods work one look at that commentator from plan  from outer space and you just know you are not gonna see the next cinematic masterpiece just like that when i saw the first shot of uwe bolls masterpiece house of dead with that guy sitting at the front of the house starting his introduction while trying desperately to sound like he just arrived from sin city i knew im in for a helluva ride so the movie starts like this   first the lead character says that everybody else is going to die you know to keep you wandering then he starts introducing the rest of the characters with lines like karmathinks shes foxy brown or aliciamy ex we broke up recently i had to study and she had to fence no im not kidding anyway this bunch of  somethings who couldnt act their way out of a wet paper bag are going to the rave of the century rave in question being a few tents a port a potty and a shoddy stage located on small island in the middle of the pacific our gang missed the ferry but thankfully will find a way to get there the way being a fisher boat ran by kirk cpt kirk get it man whoever wrote this script is a genius and his sidekick who is a bastard child of simpsons cpt mcallister and that hook killer who knows what you did last summer to make the long story short the gang gets to the island finds nobody there except some bloody t shirts and then decide to run the hell away from there no wait they do not they actually get all happy and like cos theres free booze with that scene the movie hits rock bottom and then against all odds proceeds to go further downhill some guys in rubber suits start running around there is some screaming and shooting our gang goes to some house to meet some other gang they go out of the house meet cpt kirk and some police woman who between them have about  pounds of weapons and then decide to go back to the house somewhere along the line they transform into a swat team enter the matrix the rubber suit guys start multiplying like bacteria and i start to cry because i actually paid to see this to add insult to the injury every few minutes there are shots from the video game this crap is based on and there is a cute game over cut scene for a few characters when they die i seriously hate this movie it doesnt even fit in that famed so bad its good category its just plain bad the script is bad the zombies are awful there is no tension lines are bad actors are bad the list just goes on you will probably want to see this movie just because of its reputation of being awful dont there are bad movies that deserve to be watched this is not one of them'"
      ]
     },
     "execution_count": 13,
     "metadata": {},
     "output_type": "execute_result"
    }
   ],
   "source": [
    "neg_clean = process_punc(neg_list)\n",
    "neg_clean[0]"
   ]
  },
  {
   "cell_type": "code",
   "execution_count": 14,
   "metadata": {},
   "outputs": [
    {
     "data": {
      "text/plain": [
       "list"
      ]
     },
     "execution_count": 14,
     "metadata": {},
     "output_type": "execute_result"
    }
   ],
   "source": [
    "type(pos_list)"
   ]
  },
  {
   "cell_type": "code",
   "execution_count": null,
   "metadata": {},
   "outputs": [],
   "source": []
  },
  {
   "cell_type": "code",
   "execution_count": 15,
   "metadata": {},
   "outputs": [
    {
     "data": {
      "text/plain": [
       "25000"
      ]
     },
     "execution_count": 15,
     "metadata": {},
     "output_type": "execute_result"
    }
   ],
   "source": [
    "all_list = pos_list + neg_list\n",
    "len(all_list)"
   ]
  },
  {
   "cell_type": "code",
   "execution_count": 18,
   "metadata": {},
   "outputs": [
    {
     "data": {
      "text/plain": [
       "'There are similarities between Ray Lawrence\\'s \"Jindabyne\" and his last movie \"Lantana\" \\x96 a dead body and its repercussions for already dysfunctional lives. But whereas \"Lantana\" offered some hope and resolution, \"Jindabyne\" leaves everything unresolved in a bleak way that will leave most viewers unsatisfied, perhaps even cheated.<br /><br />The storyline - the aftermath of a fisherman\\'s discovery of a corpse floating in a remote river - is based on a short story by Raymond Carver. It became an element in Robert Altman\\'s classic 1993 ensemble \"Short Cuts\". Lawrence uses this theme for an exploration and exposition of relationships within a small Australian community under stress. The movie poses some moral questions \"Would you let the discovery of a dead body ruin your good weekend?\" and more poignantly for Australians \"Would it make any difference if the dead person was an aboriginal?\" The acting, especially by Gabriel Byrne and Laura Linney, is commendable. And there are elements of mysticism reinforced by haunting music, not unlike \"Picnic at Hanging Rock\".<br /><br />If all this sounds like the basis for a great movie - be prepared for a let down, the pace is very slow and the murder is shown near the beginning, thereby eliminating the element of mystery. And so we are left with these desolate lives and a blank finale.'"
      ]
     },
     "execution_count": 18,
     "metadata": {},
     "output_type": "execute_result"
    }
   ],
   "source": [
    "all_list[-4]"
   ]
  },
  {
   "cell_type": "code",
   "execution_count": 17,
   "metadata": {},
   "outputs": [],
   "source": [
    "from sklearn.feature_extraction.text import CountVectorizer"
   ]
  },
  {
   "cell_type": "code",
   "execution_count": null,
   "metadata": {},
   "outputs": [],
   "source": []
  }
 ],
 "metadata": {
  "kernelspec": {
   "display_name": "Python 3",
   "language": "python",
   "name": "python3"
  },
  "language_info": {
   "codemirror_mode": {
    "name": "ipython",
    "version": 3
   },
   "file_extension": ".py",
   "mimetype": "text/x-python",
   "name": "python",
   "nbconvert_exporter": "python",
   "pygments_lexer": "ipython3",
   "version": "3.7.5"
  }
 },
 "nbformat": 4,
 "nbformat_minor": 4
}
